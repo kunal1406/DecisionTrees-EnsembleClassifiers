{
 "cells": [
  {
   "cell_type": "code",
   "execution_count": 1,
   "metadata": {
    "id": "U9JH_uj7O4gK"
   },
   "outputs": [],
   "source": [
    "import numpy as np\n",
    "import pandas as pd"
   ]
  },
  {
   "attachments": {},
   "cell_type": "markdown",
   "metadata": {},
   "source": [
    "### Implemented a decision tree learner for this particular problem that can derive decision trees with an arbitrary, pre-determined depth (up to the maximum depth where all data sets at the leaves are pure) using the information gain criterion."
   ]
  },
  {
   "cell_type": "code",
   "execution_count": 2,
   "metadata": {
    "id": "mJtnFgIyN2ku"
   },
   "outputs": [],
   "source": [
    "def check_purity(data):\n",
    "    \n",
    "    label_column = data[:, -1]\n",
    "    unique_classes = np.unique(label_column)\n",
    "\n",
    "    if len(unique_classes) == 1:\n",
    "        return True\n",
    "    else:\n",
    "        return False\n",
    "\n",
    "    \n",
    "def create_leaf(data, ml_task):\n",
    "    \n",
    "    label_column = data[:, -1]\n",
    "    if ml_task == \"regression\":\n",
    "        leaf = np.mean(label_column)\n",
    "        \n",
    "    else:\n",
    "        unique_classes, counts_unique_classes = np.unique(label_column, return_counts=True)\n",
    "        index = counts_unique_classes.argmax()\n",
    "        leaf = unique_classes[index]\n",
    "    \n",
    "    return leaf\n",
    "\n",
    "def get_potential_splits(data):\n",
    "    \n",
    "    potential_splits = {}\n",
    "    _, n_columns = data.shape\n",
    "    for column_index in range(n_columns - 1): # excluding the last column which is the label\n",
    "        values = data[:, column_index]\n",
    "        unique_values = np.unique(values)\n",
    "        \n",
    "        unique_values = np.sort(unique_values)\n",
    "        arr=[]\n",
    "        for i in range(len(unique_values)-1):\n",
    "            arr.append((unique_values[i] + unique_values[i+1])/2)\n",
    "        unique_values = arr\n",
    "        \n",
    "        \n",
    "        \n",
    "        potential_splits[column_index] = unique_values\n",
    "    \n",
    "    return potential_splits\n",
    "\n",
    "\n",
    "def calculate_entropy(data):\n",
    "    \n",
    "    label_column = data[:, -1]\n",
    "    _, counts = np.unique(label_column, return_counts=True)\n",
    "\n",
    "    probabilities = counts / counts.sum()\n",
    "    entropy = sum(probabilities * -np.log2(probabilities))\n",
    "     \n",
    "    return entropy\n",
    "\n",
    "\n",
    "def calculate_mse(data):\n",
    "    actual_values = data[:, -1]\n",
    "    if len(actual_values) == 0:   \n",
    "        mse = 0\n",
    "        \n",
    "    else:\n",
    "        prediction = np.mean(actual_values)\n",
    "        mse = np.mean((actual_values - prediction) **2)\n",
    "    \n",
    "    return mse\n",
    "\n",
    "\n",
    "def calculate_overall_metric(data_below, data_above, metric_function):\n",
    "    \n",
    "    n = len(data_below) + len(data_above)\n",
    "    p_data_below = len(data_below) / n\n",
    "    p_data_above = len(data_above) / n\n",
    "\n",
    "    overall_metric =  (p_data_below * metric_function(data_below) \n",
    "                     + p_data_above * metric_function(data_above))\n",
    "    \n",
    "    return overall_metric\n",
    "\n",
    "\n",
    "def determine_best_split(data, potential_splits, ml_task):\n",
    "    \n",
    "    first_iteration = True\n",
    "    for column_index in potential_splits:\n",
    "        for value in potential_splits[column_index]:\n",
    "            data_below, data_above = split_data(data, split_column=column_index, split_value=value)\n",
    "            \n",
    "            if ml_task == \"regression\":\n",
    "                current_overall_metric = calculate_overall_metric(data_below, data_above, metric_function=calculate_mse)\n",
    "            \n",
    "            # classification\n",
    "            else:\n",
    "                current_overall_metric = calculate_overall_metric(data_below, data_above, metric_function=calculate_entropy)\n",
    "\n",
    "            if first_iteration or current_overall_metric <= best_overall_metric:\n",
    "                first_iteration = False\n",
    "                \n",
    "                best_overall_metric = current_overall_metric\n",
    "                best_split_column = column_index\n",
    "                best_split_value = value\n",
    "    \n",
    "    return best_split_column, best_split_value\n",
    "\n",
    "\n",
    "def split_data(data, split_column, split_value):\n",
    "    \n",
    "    split_column_values = data[:, split_column]\n",
    "\n",
    "    type_of_feature = FEATURE_TYPES[split_column]\n",
    "    if type_of_feature == \"continuous\":\n",
    "        data_below = data[split_column_values <= split_value]\n",
    "        data_above = data[split_column_values >  split_value]\n",
    "    \n",
    "    else:\n",
    "        data_below = data[split_column_values == split_value]\n",
    "        data_above = data[split_column_values != split_value]\n",
    "    \n",
    "    return data_below, data_above\n",
    "\n",
    "\n",
    "def determine_type_of_feature(df):\n",
    "    \n",
    "    feature_types = []\n",
    "    n_unique_values_treshold = 15\n",
    "    for feature in df.columns:\n",
    "        if feature != \"Class\":\n",
    "            unique_values = df[feature].unique()\n",
    "            example_value = unique_values[0]\n",
    "\n",
    "            if (isinstance(example_value, str)) or (len(unique_values) <= n_unique_values_treshold):\n",
    "                feature_types.append(\"categorical\")\n",
    "            else:\n",
    "                feature_types.append(\"continuous\")\n",
    "    \n",
    "    return feature_types\n",
    "\n",
    "\n",
    "def decision_tree_algorithm(df, ml_task, counter=0, min_samples=2, max_depth=5):\n",
    "    \n",
    "    if counter == 0:\n",
    "        global COLUMN_HEADERS, FEATURE_TYPES\n",
    "        COLUMN_HEADERS = df.columns\n",
    "        FEATURE_TYPES = determine_type_of_feature(df)\n",
    "        data = df.values\n",
    "    else:\n",
    "        data = df           \n",
    "    \n",
    "    \n",
    "    if (check_purity(data)) or (len(data) < min_samples) or (counter == max_depth):\n",
    "        leaf = create_leaf(data, ml_task)\n",
    "        return leaf\n",
    "\n",
    "    \n",
    "    else:    \n",
    "        counter += 1\n",
    "\n",
    "        potential_splits = get_potential_splits(data)\n",
    "        split_column, split_value = determine_best_split(data, potential_splits, ml_task)\n",
    "        data_below, data_above = split_data(data, split_column, split_value)\n",
    "        \n",
    "        if len(data_below) == 0 or len(data_above) == 0:\n",
    "            leaf = create_leaf(data, ml_task)\n",
    "            return leaf\n",
    "        \n",
    "        feature_name = COLUMN_HEADERS[split_column]\n",
    "        type_of_feature = FEATURE_TYPES[split_column]\n",
    "        if type_of_feature == \"continuous\":\n",
    "            question = \"{} <= {}\".format(feature_name, split_value)\n",
    "            \n",
    "        else:\n",
    "            question = \"{} = {}\".format(feature_name, split_value)\n",
    "        \n",
    "        sub_tree = {question: []}\n",
    "        \n",
    "        yes_answer = decision_tree_algorithm(data_below, ml_task, counter, min_samples, max_depth)\n",
    "        no_answer = decision_tree_algorithm(data_above, ml_task, counter, min_samples, max_depth)\n",
    "        \n",
    "\n",
    "        if yes_answer == no_answer:\n",
    "            sub_tree = yes_answer\n",
    "        else:\n",
    "            sub_tree[question].append(yes_answer)\n",
    "            sub_tree[question].append(no_answer)\n",
    "        \n",
    "        return sub_tree\n",
    "\n",
    "\n",
    "def predict_example(example, tree):\n",
    "    \n",
    "    # tree is just a root node\n",
    "    if not isinstance(tree, dict):\n",
    "        return tree\n",
    "    \n",
    "    question = list(tree.keys())[0]\n",
    "    feature_name, comparison_operator, value = question.split(\" \")\n",
    "\n",
    "    # ask question\n",
    "    if comparison_operator == \"<=\":\n",
    "        if example[feature_name] <= float(value):\n",
    "            answer = tree[question][0]\n",
    "        else:\n",
    "            answer = tree[question][1]\n",
    "    \n",
    "    else:\n",
    "        if str(example[feature_name]) == value:\n",
    "            answer = tree[question][0]\n",
    "        else:\n",
    "            answer = tree[question][1]\n",
    "\n",
    "    if not isinstance(answer, dict):\n",
    "        return answer\n",
    "    \n",
    "    else:\n",
    "        residual_tree = answer\n",
    "        return predict_example(example, residual_tree)\n",
    "\n",
    "    \n",
    "def make_predictions(df, tree):\n",
    "    \n",
    "    if len(df) != 0:\n",
    "        predictions = df.apply(predict_example, args=(tree,), axis=1)\n",
    "    else:\n",
    "\n",
    "        predictions = pd.Series()\n",
    "        \n",
    "    return predictions\n",
    "\n",
    "\n",
    "def calculate_accuracy(df, tree):\n",
    "    predictions = make_predictions(df, tree)\n",
    "    predictions_correct = predictions == df.Class\n",
    "    accuracy = predictions_correct.mean()\n",
    "    \n",
    "    return accuracy"
   ]
  },
  {
   "attachments": {},
   "cell_type": "markdown",
   "metadata": {},
   "source": [
    "### Divided the data set into a training set comprising the first 90 data points and a test set consisting of the last 30 data elements. Used the resulting training set to derive trees of depths 1 - 8 and evaluated the accuracy of the resulting trees for the 90 training samples and for the test set containing the last 30 data items. Compared the classification accuracy on the test set with the one on the training set for each tree depth."
   ]
  },
  {
   "cell_type": "code",
   "execution_count": 3,
   "metadata": {},
   "outputs": [],
   "source": [
    "accuracy_train=[]\n",
    "\n",
    "for i in range(1,14):\n",
    "\n",
    "    df = pd.read_csv(\"data2c.csv\")\n",
    "    tree = decision_tree_algorithm(df.iloc[:90, :], \"classification\", counter=0, min_samples=1, max_depth=i)\n",
    "    acct = calculate_accuracy(df.iloc[:90,:], tree)\n",
    "    accuracy_train.append(acct)"
   ]
  },
  {
   "cell_type": "code",
   "execution_count": 4,
   "metadata": {},
   "outputs": [
    {
     "data": {
      "text/plain": [
       "[0.7222222222222222,\n",
       " 0.7333333333333333,\n",
       " 0.7777777777777778,\n",
       " 0.8222222222222222,\n",
       " 0.8333333333333334,\n",
       " 0.8444444444444444,\n",
       " 0.8555555555555555,\n",
       " 0.9,\n",
       " 0.9444444444444444,\n",
       " 0.9666666666666667,\n",
       " 0.9888888888888889,\n",
       " 0.9888888888888889,\n",
       " 1.0]"
      ]
     },
     "execution_count": 4,
     "metadata": {},
     "output_type": "execute_result"
    }
   ],
   "source": [
    "accuracy_train"
   ]
  },
  {
   "cell_type": "code",
   "execution_count": 5,
   "metadata": {
    "id": "TFwMtIKjPFxh"
   },
   "outputs": [],
   "source": [
    "accuracy=[]\n",
    "\n",
    "for i in range(1,14):\n",
    "\n",
    "    df = pd.read_csv(\"data2c.csv\")\n",
    "    tree = decision_tree_algorithm(df.iloc[:90, :], \"classification\", counter=0, min_samples=1, max_depth=i)\n",
    "    acc = calculate_accuracy(df.iloc[90:,:], tree)\n",
    "    accuracy.append(acc)"
   ]
  },
  {
   "cell_type": "code",
   "execution_count": 6,
   "metadata": {},
   "outputs": [
    {
     "data": {
      "text/plain": [
       "[0.7333333333333333,\n",
       " 0.7333333333333333,\n",
       " 0.8,\n",
       " 0.8,\n",
       " 0.8,\n",
       " 0.8,\n",
       " 0.8,\n",
       " 0.8333333333333334,\n",
       " 0.7666666666666667,\n",
       " 0.7666666666666667,\n",
       " 0.8,\n",
       " 0.8,\n",
       " 0.8]"
      ]
     },
     "execution_count": 6,
     "metadata": {},
     "output_type": "execute_result"
    }
   ],
   "source": [
    "accuracy"
   ]
  },
  {
   "cell_type": "code",
   "execution_count": 7,
   "metadata": {},
   "outputs": [
    {
     "data": {
      "image/png": "[encoded data removed]",
      "text/plain": [
       "<Figure size 432x288 with 1 Axes>"
      ]
     },
     "metadata": {
      "needs_background": "light"
     },
     "output_type": "display_data"
    }
   ],
   "source": [
    "import matplotlib.pyplot as plt\n",
    " \n",
    "max_depth_list = [i for i in range(1,14)]\n",
    "x = np.arange(len(max_depth_list)) + 1 \n",
    "plt.plot(x, accuracy_train)\n",
    "plt.plot(x, accuracy, label='Accuracy vs max_depth') \n",
    "plt.xlabel('Maximum Depth') \n",
    "plt.ylabel('Accuracy') \n",
    "plt.legend() \n",
    "plt.show() "
   ]
  },
  {
   "attachments": {},
   "cell_type": "markdown",
   "metadata": {},
   "source": [
    "#### Classification accuracy on the test vs train for each tree depth\n",
    "\n",
    "From the above graph it can be inferred that the accuracy on the test data and train keeps on increasing with the increasing values of depth till max_depth=8. From this point the test result starts decreasing and the train results keeps on increasing which indicates the overfitting of the train data on the classifier. "
   ]
  },
  {
   "attachments": {},
   "cell_type": "markdown",
   "metadata": {},
   "source": [
    "### Implemented a bagging routine for the decision tree classifier"
   ]
  },
  {
   "cell_type": "code",
   "execution_count": 8,
   "metadata": {
    "id": "5Xfn5JqzSt6R"
   },
   "outputs": [],
   "source": [
    "df_train = df.iloc[:90, :]\n",
    "df_test = df.iloc[90:, :]\n",
    "actual = df_test.iloc[:, -1].values"
   ]
  },
  {
   "cell_type": "code",
   "execution_count": 9,
   "metadata": {
    "id": "qYufYbHjYNRu"
   },
   "outputs": [],
   "source": [
    "def accuracy_metric(actual, predicted):\n",
    "        correct = 0\n",
    "        for i in range(len(actual)):\n",
    "            if actual[i] == predicted[i]:\n",
    "                correct += 1\n",
    "        return correct / float(len(actual)) "
   ]
  },
  {
   "attachments": {},
   "cell_type": "markdown",
   "metadata": {},
   "source": [
    "### Applied bagging 10, 50, and 100 times to the training data. For each of the three cases, evaluated the resulting ensemble classifier on the test data set and compared the error rates for a single classifier of the chosen depth and the three ensemble classifiers."
   ]
  },
  {
   "cell_type": "code",
   "execution_count": 10,
   "metadata": {},
   "outputs": [],
   "source": [
    "bagging=[10,50,100]\n",
    "accuracy_bagging=[]\n",
    "for bag in bagging:\n",
    "\n",
    "    predictions=[]\n",
    "    for i in range(bag):\n",
    "        indexes = np.random.randint(low=0, high=df_train.shape[0], size=df_train.shape[0])\n",
    "        dataset = df_train.iloc[indexes]\n",
    "        tree = decision_tree_algorithm(dataset, \"classification\", counter=0, min_samples=1, max_depth=8)\n",
    "        pred = make_predictions(df.iloc[90:,:-1], tree)\n",
    "        predictions.append(pred.tolist())\n",
    "\n",
    "    final_pred = []\n",
    "    # prediction = []\n",
    "    for j in range(len(predictions[0])): \n",
    "        count_M=0\n",
    "        count_W=0\n",
    "        for i in range(len(predictions)): \n",
    "            if predictions[i][j] == ' M':\n",
    "                count_M = count_M + 1\n",
    "            else:\n",
    "                count_W = count_W + 1\n",
    "\n",
    "        if count_M >= count_W:\n",
    "            final_pred.append(\" M\")\n",
    "        else:\n",
    "            final_pred.append(\" W\")\n",
    "\n",
    "    ac = accuracy_metric(actual, final_pred)\n",
    "    accuracy_bagging.append(ac)"
   ]
  },
  {
   "cell_type": "code",
   "execution_count": 11,
   "metadata": {},
   "outputs": [
    {
     "data": {
      "text/plain": [
       "[0.7333333333333333, 0.8333333333333334, 0.8666666666666667]"
      ]
     },
     "execution_count": 11,
     "metadata": {},
     "output_type": "execute_result"
    }
   ],
   "source": [
    "accuracy_bagging #For bag =10,50,100"
   ]
  },
  {
   "attachments": {},
   "cell_type": "markdown",
   "metadata": {},
   "source": [
    "From the results it can be inferred that after applying bagging the accuracy has increased as compared to that of accuracy determined from a single classifier of depth 8 (which is the optimum depth after which the result start indicating overfitting). For Bagging value of 100, I generated 100 datasets of the same dimensions as that of actual which consist of duplicate values and ran classifier of depth 8. As a result, for the bagging part the accuracy is comparatively better than that of single classifier of the chosen depth 8. The accuracy for the single classifier of depth 8 is 0.833 where as for bagging the accuracy will change each time the code is executed as data is generated randomly and the results turn out to be better than that of result of single classifier."
   ]
  },
  {
   "attachments": {},
   "cell_type": "markdown",
   "metadata": {},
   "source": [
    "### Implemented AdaBoost on top of your decision tree classifier. Applied boosting 10, 25, and 50 times to the training data. For each of the three cases, evaluated the resulting ensemble classifier on the test data set and compared the error rates for a single classifier with the chosen depth and the three ensemble classifiers."
   ]
  },
  {
   "cell_type": "code",
   "execution_count": null,
   "metadata": {},
   "outputs": [],
   "source": [
    "n_boosting = [10, 25, 50]\n",
    "\n",
    "for iterations in n_boosting:\n",
    "\n",
    "    train_data_weighted = train_data.copy()\n",
    "    weights = np.ones(len(train_data)) / len(train_data)\n",
    "    train_data_weighted['weight'] = weights\n",
    "\n",
    "    trees_list = []\n",
    "    alpha_list = []\n",
    "    for i in range(iterations):\n",
    "\n",
    "        tree = decision_tree_algorithm(train_data, \"Classification\", counter=0, min_samples=2, max_depth=5)\n",
    "\n",
    "        test = test_data.loc[:, test_data.columns != 'weight']\n",
    "\n",
    "        train_labels = train_data_weighted['Class'].values\n",
    "        x_train = train_data_weighted.loc[:, train_data_weighted.columns != 'Class']\n",
    "        x_train = x_train.loc[:, x_train.columns != 'weight']\n",
    "\n",
    "        error_list, prediction_list = [], []\n",
    "        for index, sample in x_train.iterrows():\n",
    "            prediction = make_predictions(sample, tree)\n",
    "            prediction_list.append(prediction[0])\n",
    "            error_list.append(1 if prediction != train_labels[index] else 0)\n",
    "\n",
    "        w = train_data_weighted['weight'].values\n",
    "        epsilon = sum(w * error_list) / w.sum()\n",
    "\n",
    "        if 0 < epsilon < 0.5:\n",
    "            trees_list.append(tree)\n",
    "\n",
    "            alpha = 0.5 * np.log((1 - epsilon) / epsilon)\n",
    "            alpha_list.append(alpha)\n",
    "            y = [1 if label == ' M' else -1 for label in train_labels]\n",
    "            h = [1 if pred == ' W' else -1 for pred in prediction_list]\n",
    "            weights = weights * np.exp(-alpha * np.asarray(y) * np.asarray(h))\n",
    "            train_data_weighted['weight'] = weights\n",
    "\n",
    "    test_labels = test_data['Class'].values\n",
    "    test_labels[test_labels == ' M'] = 1\n",
    "    test_labels[test_labels == ' W'] = -1\n",
    "\n",
    "    x_test = test_data.loc[:, test_data.columns != 'Class']\n",
    "    count_correct_pred = 0\n",
    "\n",
    "    for index, sample in x_test.iterrows():\n",
    "        classifications = [make_predictions(sample, tree) for tree in trees]\n",
    "        classifications_int = [1 if classification == ' M' else -1 for classification in classifications]\n",
    "        prediction = np.sign(sum(alpha_list * np.asarray(classifications_int)))\n",
    "        if prediction == test_labels[index]:\n",
    "            count_correct_pred += 1\n",
    "\n",
    "    accuracy = count_correct_pred / len(test_labels)\n"
   ]
  }
 ],
 "metadata": {
  "colab": {
   "collapsed_sections": [],
   "name": "Untitled2.ipynb",
   "provenance": []
  },
  "kernelspec": {
   "display_name": "Python 3",
   "language": "python",
   "name": "python3"
  },
  "language_info": {
   "codemirror_mode": {
    "name": "ipython",
    "version": 3
   },
   "file_extension": ".py",
   "mimetype": "text/x-python",
   "name": "python",
   "nbconvert_exporter": "python",
   "pygments_lexer": "ipython3",
   "version": "3.8.8"
  }
 },
 "nbformat": 4,
 "nbformat_minor": 1
}
